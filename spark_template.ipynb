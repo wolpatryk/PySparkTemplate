{
 "cells": [
  {
   "cell_type": "code",
   "execution_count": 1,
   "id": "47259c23",
   "metadata": {
    "collapsed": false,
    "jupyter": {
     "outputs_hidden": false
    },
    "pycharm": {
     "name": "#%%\n"
    }
   },
   "outputs": [],
   "source": [
    "import os\n",
    "os.environ[\"JAVA_HOME\"] = \"C:\\Program Files\\Java\\jre1.8.0_331\"\n",
    "os.environ[\"SPARK_HOME\"] = \"C:\\spark\\spark-3.2.0-bin-hadoop2.7\"\n",
    "import findspark\n",
    "findspark.init()\n",
    "from pyspark.sql import SparkSession\n",
    "spark = SparkSession.builder.master(\"local[*]\").getOrCreate()\n",
    "\n",
    "from pyspark.sql.functions import *\n",
    "from pyspark.sql.types import *\n",
    "from scipy import stats\n",
    "from pyspark.sql import Window\n",
    "from plotnine import *\n",
    "from mizani.breaks import date_breaks\n",
    "from mizani.formatters import percent_format\n",
    "from pyspark.ml.feature import Bucketizer\n",
    "\n",
    "import os.path\n",
    "import datetime\n",
    "import seaborn as sns\n",
    "import statsmodels.api as sm\n",
    "import matplotlib.pyplot as plt\n",
    "import warnings\n",
    "import pandas as pd\n",
    "import numpy as np\n",
    "import warnings\n",
    "import sys\n",
    "import re\n",
    "from scipy.stats import *\n",
    "from plotly import graph_objects as go\n",
    "import plotly.express as px\n",
    "import pandas as pd\n",
    "from pyspark.sql import Row\n",
    "warnings.filterwarnings('ignore')\n",
    "import matplotlib.ticker as mticker\n",
    "import matplotlib.pyplot as plt\n",
    "from mizani.formatters import percent_format, currency_format\n",
    "import plotly.express as px"
   ]
  },
  {
   "cell_type": "code",
   "execution_count": 1,
   "id": "aaff63c8",
   "metadata": {
    "collapsed": false,
    "jupyter": {
     "outputs_hidden": false
    },
    "pycharm": {
     "name": "#%%\n"
    }
   },
   "outputs": [],
   "source": [
    "# df = spark.read.options(header='True', inferSchema='True', delimiter='\\t').csv(\"./workers.tsv\")"
   ]
  }
 ],
 "metadata": {
  "kernelspec": {
   "display_name": "Python 3 (ipykernel)",
   "language": "python",
   "name": "python3"
  },
  "language_info": {
   "codemirror_mode": {
    "name": "ipython",
    "version": 3
   },
   "file_extension": ".py",
   "mimetype": "text/x-python",
   "name": "python",
   "nbconvert_exporter": "python",
   "pygments_lexer": "ipython3",
   "version": "3.10.4"
  }
 },
 "nbformat": 4,
 "nbformat_minor": 5
}
